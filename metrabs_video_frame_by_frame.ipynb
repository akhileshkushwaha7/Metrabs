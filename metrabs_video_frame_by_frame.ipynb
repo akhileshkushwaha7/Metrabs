{
  "cells": [
    {
      "cell_type": "code",
      "execution_count": 1,
      "metadata": {},
      "outputs": [],
      "source": [
        "import tensorflow as tf\n",
        "import os\n",
        "import numpy as np\n",
        "import cv2\n",
        "import matplotlib.pyplot as plt\n",
        "from matplotlib.patches import Rectangle\n",
        "from mpl_toolkits.mplot3d import Axes3D"
      ]
    },
    {
      "cell_type": "code",
      "execution_count": 2,
      "metadata": {
        "id": "Yhoyozpe451g"
      },
      "outputs": [
        {
          "name": "stdout",
          "output_type": "stream",
          "text": [
            "C:\\Users\\akushwaha2024\\.keras\\models\\metrabs_eff2l_y4\n"
          ]
        }
      ],
      "source": [
        "def download_model(model_type):\n",
        "    server_prefix = 'https://omnomnom.vision.rwth-aachen.de/data/metrabs'\n",
        "    model_zippath = tf.keras.utils.get_file(\n",
        "        origin=f'{server_prefix}/{model_type}_20211019.zip',\n",
        "        extract=True, cache_subdir='models')\n",
        "    model_path = os.path.join(os.path.dirname(model_zippath), model_type)\n",
        "    print(model_path)\n",
        "    return model_path\n",
        "\n",
        "model = tf.saved_model.load(download_model('metrabs_eff2l_y4')) # or metrabs_mob3l_y4t for the small model"
      ]
    },
    {
      "cell_type": "code",
      "execution_count": 3,
      "metadata": {
        "colab": {
          "base_uri": "https://localhost:8080/",
          "height": 384
        },
        "id": "9YRs53ID-xbM",
        "outputId": "d5aa355a-4139-49b1-9644-9b190169e918"
      },
      "outputs": [],
      "source": [
        "def visualize(im, detections, poses3d, poses2d, edges):\n",
        "    fig = plt.figure(figsize=(10, 5.2))\n",
        "    image_ax = fig.add_subplot(1, 2, 1)\n",
        "    image_ax.imshow(im)\n",
        "    for x, y, w, h in detections[:, :4]:\n",
        "        image_ax.add_patch(Rectangle((x, y), w, h, fill=False))\n",
        "\n",
        "    pose_ax = fig.add_subplot(1, 2, 2, projection='3d')\n",
        "    pose_ax.view_init(5, -85)\n",
        "    pose_ax.set_xlim3d(-1500, 1500)\n",
        "    pose_ax.set_zlim3d(-1500, 1500)\n",
        "    pose_ax.set_ylim3d(0, 3000)\n",
        "\n",
        "    poses3d[..., 1], poses3d[..., 2] = poses3d[..., 2], -poses3d[..., 1]\n",
        "    \n",
        "    for pose3d, pose2d in zip(poses3d, poses2d):\n",
        "        for i_start, i_end in edges:\n",
        "            image_ax.plot(*zip(pose2d[i_start], pose2d[i_end]), marker='o', markersize=2)\n",
        "            pose_ax.plot(*zip(pose3d[i_start], pose3d[i_end]), marker='o', markersize=2)\n",
        "        image_ax.scatter(*pose2d.T, s=2)\n",
        "        pose_ax.scatter(*pose3d.T, s=2)\n",
        "\n",
        "    fig.tight_layout()\n",
        "    plt.show()"
      ]
    },
    {
      "cell_type": "code",
      "execution_count": 4,
      "metadata": {},
      "outputs": [],
      "source": [
        "# Extract joint coordinates\n",
        "def extract_joints_coordinates(poses3d, poses2d):\n",
        "    for i, (pose3d, pose2d) in enumerate(zip(poses3d, poses2d)):\n",
        "        print(f\"Pose {i + 1}:\")\n",
        "        print(\"2D Joint Coordinates:\")\n",
        "        print(pose2d)\n",
        "        print(\"3D Joint Coordinates:\")\n",
        "        print(pose3d)\n",
        "        print(\"-\" * 40)"
      ]
    },
    {
      "cell_type": "code",
      "execution_count": 5,
      "metadata": {},
      "outputs": [],
      "source": [
        "def process_video(video_path):\n",
        "    cap = cv2.VideoCapture(video_path)\n",
        "    while cap.isOpened():\n",
        "        ret, frame = cap.read()\n",
        "        if not ret:\n",
        "            break\n",
        "        \n",
        "        image = tf.convert_to_tensor(frame, dtype=tf.uint8)\n",
        "        pred = model.detect_poses(image, skeleton='smpl_24')\n",
        "        \n",
        "        extract_joints_coordinates(pred['poses3d'].numpy(), pred['poses2d'].numpy())\n",
        "        visualize(\n",
        "            frame, \n",
        "            pred['boxes'].numpy(),\n",
        "            pred['poses3d'].numpy(),\n",
        "            pred['poses2d'].numpy(),\n",
        "            model.per_skeleton_joint_edges['smpl_24'].numpy()\n",
        "        )\n",
        "    cap.release()\n",
        "    cv2.destroyAllWindows()"
      ]
    },
    {
      "cell_type": "code",
      "execution_count": null,
      "metadata": {},
      "outputs": [],
      "source": [
        "# Run video processing\n",
        "test_video_path = 'video1.mp4'  # Change to the actual video path\n",
        "process_video(test_video_path)"
      ]
    },
    {
      "cell_type": "code",
      "execution_count": null,
      "metadata": {},
      "outputs": [],
      "source": []
    }
  ],
  "metadata": {
    "accelerator": "GPU",
    "colab": {
      "collapsed_sections": [],
      "include_colab_link": true,
      "name": "metrabs_demo.ipynb",
      "provenance": []
    },
    "kernelspec": {
      "display_name": "metrabs",
      "language": "python",
      "name": "python3"
    },
    "language_info": {
      "codemirror_mode": {
        "name": "ipython",
        "version": 3
      },
      "file_extension": ".py",
      "mimetype": "text/x-python",
      "name": "python",
      "nbconvert_exporter": "python",
      "pygments_lexer": "ipython3",
      "version": "3.10.16"
    }
  },
  "nbformat": 4,
  "nbformat_minor": 0
}
